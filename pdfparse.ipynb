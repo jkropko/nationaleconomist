{
 "cells": [
  {
   "cell_type": "code",
   "execution_count": 1,
   "id": "9450b68a-834d-473c-bee8-0e2b3adafc59",
   "metadata": {},
   "outputs": [],
   "source": [
    "import fitz\n",
    "import argparse\n",
    "import sys\n",
    "import os\n",
    "import cv2\n",
    "from pprint import pprint"
   ]
  },
  {
   "cell_type": "code",
   "execution_count": 2,
   "id": "3313245d-3492-4cb1-b052-7c7e413ab868",
   "metadata": {},
   "outputs": [],
   "source": [
    "def get_arguments():\n",
    "    parser = argparse.ArgumentParser(\n",
    "        description=\"A Python script to extract text from PDF documents.\")\n",
    "    parser.add_argument(\"file\", help=\"Input PDF file\")\n",
    "    parser.add_argument(\"-p\", \"--pages\", nargs=\"*\", type=int,\n",
    "                        help=\"The pages to extract, default is all\")\n",
    "    parser.add_argument(\"-o\", \"--output-file\", default=sys.stdout,\n",
    "                        help=\"Output file to write text. default is standard output\")\n",
    "    parser.add_argument(\"-b\", \"--by-page\", action=\"store_true\",\n",
    "                        help=\"Whether to output text by page. If not specified, all text is joined and will be written together\")\n",
    "    # parse the arguments from the command-line\n",
    "    args = parser.parse_args()\n",
    "\n",
    "    input_file = args.file\n",
    "    pages = args.pages\n",
    "    by_page = args.by_page\n",
    "    output_file = args.output_file\n",
    "    # print the arguments, just for logging purposes\n",
    "    pprint(vars(args))\n",
    "    # load the pdf file\n",
    "    pdf = fitz.open(input_file)\n",
    "    if not pages:\n",
    "        # if pages is not set, default is all pages of the input PDF document\n",
    "        pages = list(range(pdf.pageCount))\n",
    "    # we make our dictionary that maps each pdf page to its corresponding file\n",
    "    # based on passed arguments\n",
    "    if by_page:\n",
    "        if output_file is not sys.stdout:\n",
    "            # if by_page and output_file are set, open all those files\n",
    "            file_name, ext = os.path.splitext(output_file)\n",
    "            output_files = { pn: open(f\"{file_name}-{pn}{ext}\", \"w\") for pn in pages }\n",
    "        else:\n",
    "            # if output file is standard output, do not open\n",
    "            output_files = { pn: output_file for pn in pages }\n",
    "    else:\n",
    "        if output_file is not sys.stdout:\n",
    "            # a single file, open it\n",
    "            output_file = open(output_file, \"w\")\n",
    "            output_files = { pn: output_file for pn in pages }\n",
    "        else:\n",
    "            # if output file is standard output, do not open\n",
    "            output_files = { pn: output_file for pn in pages }\n",
    "\n",
    "    # return the parsed and processed arguments\n",
    "    return {\n",
    "        \"pdf\": pdf,\n",
    "        \"output_files\": output_files,\n",
    "        \"pages\": pages,\n",
    "    }"
   ]
  },
  {
   "cell_type": "code",
   "execution_count": 3,
   "id": "a5811d6e-82c4-4e73-b302-1fdd7ad9dc8c",
   "metadata": {},
   "outputs": [],
   "source": [
    "def extract_text(**kwargs):\n",
    "    # extract the arguments\n",
    "    pdf          = kwargs.get(\"pdf\")\n",
    "    output_files = kwargs.get(\"output_files\")\n",
    "    pages        = kwargs.get(\"pages\")\n",
    "    # iterate over pages\n",
    "    for pg in range(pdf.pageCount):\n",
    "        if pg in pages:\n",
    "            # get the page object\n",
    "            page = pdf[pg]\n",
    "            # extract the text of that page and split by new lines '\\n'\n",
    "            page_lines = page.get_text().splitlines()\n",
    "            # get the output file\n",
    "            file = output_files[pg]\n",
    "            # get the number of lines\n",
    "            n_lines = len(page_lines)\n",
    "            for line in page_lines:\n",
    "                # remove any whitespaces in the end & beginning of the line\n",
    "                line = line.strip()\n",
    "                # print the line to the file/stdout\n",
    "                print(line, file=file)\n",
    "            print(f\"[*] Wrote {n_lines} lines in page {pg}\")    \n",
    "    # close the files\n",
    "    for pn, f in output_files.items():\n",
    "        if f is not sys.stdout:\n",
    "            f.close()"
   ]
  },
  {
   "cell_type": "code",
   "execution_count": 4,
   "id": "ebd97fa5-ae33-4dc2-957c-36159b6772ea",
   "metadata": {},
   "outputs": [
    {
     "name": "stderr",
     "output_type": "stream",
     "text": [
      "usage: ipykernel_launcher.py [-h] [-p [PAGES ...]] [-o OUTPUT_FILE] [-b] file\n",
      "ipykernel_launcher.py: error: unrecognized arguments: -f\n"
     ]
    },
    {
     "ename": "SystemExit",
     "evalue": "2",
     "output_type": "error",
     "traceback": [
      "An exception has occurred, use %tb to see the full traceback.\n",
      "\u001b[0;31mSystemExit\u001b[0m\u001b[0;31m:\u001b[0m 2\n"
     ]
    },
    {
     "name": "stderr",
     "output_type": "stream",
     "text": [
      "/usr/local/lib/python3.11/site-packages/IPython/core/interactiveshell.py:3450: UserWarning: To exit: use 'exit', 'quit', or Ctrl-D.\n",
      "  warn(\"To exit: use 'exit', 'quit', or Ctrl-D.\", stacklevel=1)\n"
     ]
    }
   ],
   "source": [
    "if __name__ == \"__main__\":\n",
    "    # get the arguments\n",
    "    kwargs = get_arguments()\n",
    "    # extract text from the pdf document\n",
    "    extract_text(**kwargs)"
   ]
  },
  {
   "cell_type": "code",
   "execution_count": 5,
   "id": "9ae60885-d886-414f-a0e4-4f79b0c6dfcd",
   "metadata": {},
   "outputs": [
    {
     "name": "stderr",
     "output_type": "stream",
     "text": [
      "usage: ipykernel_launcher.py [-h] [-p [PAGES ...]] [-o OUTPUT_FILE] [-b] file\n",
      "ipykernel_launcher.py: error: unrecognized arguments: -f\n"
     ]
    },
    {
     "ename": "SystemExit",
     "evalue": "2",
     "output_type": "error",
     "traceback": [
      "An exception has occurred, use %tb to see the full traceback.\n",
      "\u001b[0;31mSystemExit\u001b[0m\u001b[0;31m:\u001b[0m 2\n"
     ]
    }
   ],
   "source": [
    "get_arguments()"
   ]
  },
  {
   "cell_type": "code",
   "execution_count": 6,
   "id": "4bed5291-9769-4a67-83d7-e7ef430c7fd5",
   "metadata": {},
   "outputs": [],
   "source": [
    "exit"
   ]
  },
  {
   "cell_type": "code",
   "execution_count": null,
   "id": "f1050667-0855-421b-9a24-82e431d253ff",
   "metadata": {},
   "outputs": [],
   "source": []
  }
 ],
 "metadata": {
  "kernelspec": {
   "display_name": "Python 3 (ipykernel)",
   "language": "python",
   "name": "python3"
  },
  "language_info": {
   "codemirror_mode": {
    "name": "ipython",
    "version": 3
   },
   "file_extension": ".py",
   "mimetype": "text/x-python",
   "name": "python",
   "nbconvert_exporter": "python",
   "pygments_lexer": "ipython3",
   "version": "3.11.1"
  }
 },
 "nbformat": 4,
 "nbformat_minor": 5
}
