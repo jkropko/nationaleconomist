{
 "cells": [
  {
   "cell_type": "markdown",
   "id": "4117bbed-d6dd-4fc6-aaef-3dc34df14147",
   "metadata": {},
   "source": [
    "## Parsing PDFs to Text Code"
   ]
  },
  {
   "cell_type": "code",
   "execution_count": 1,
   "id": "f029bcc8-24e9-4536-8f22-44c1519c7d49",
   "metadata": {},
   "outputs": [],
   "source": [
    "pdfs = ['mar1889', 'apr1889', 'may1889', \n",
    "        'june1889', 'july1889', 'aug1889', \n",
    "        'sept1889', 'oct1889', 'nov1889', \n",
    "        'dec1889', 'jan1890', 'feb1890', \n",
    "        'mar1890', 'apr1890', 'may1890', \n",
    "        'june1890', 'july1890', 'aug1890',\n",
    "        'apr1892', 'aug1892', 'dec1892', \n",
    "        'dec1891', 'feb1892', 'feb1893', \n",
    "        'jan1892', 'jan1893', 'july1892', \n",
    "        'june1892', 'mar1892', 'mar1893', \n",
    "        'may1892', 'nov1892', 'nov1891', \n",
    "        'oct1892', 'oct1891', 'sept1892']"
   ]
  },
  {
   "cell_type": "code",
   "execution_count": 2,
   "id": "2dcd6c7f-283f-44e3-a5cd-56509681f369",
   "metadata": {},
   "outputs": [
    {
     "name": "stdout",
     "output_type": "stream",
     "text": [
      "python pdfparse.py mar1889.pdf -o mar1889text.txt\n",
      "python pdfparse.py apr1889.pdf -o apr1889text.txt\n",
      "python pdfparse.py may1889.pdf -o may1889text.txt\n",
      "python pdfparse.py june1889.pdf -o june1889text.txt\n",
      "python pdfparse.py july1889.pdf -o july1889text.txt\n",
      "python pdfparse.py aug1889.pdf -o aug1889text.txt\n",
      "python pdfparse.py sept1889.pdf -o sept1889text.txt\n",
      "python pdfparse.py oct1889.pdf -o oct1889text.txt\n",
      "python pdfparse.py nov1889.pdf -o nov1889text.txt\n",
      "python pdfparse.py dec1889.pdf -o dec1889text.txt\n",
      "python pdfparse.py jan1890.pdf -o jan1890text.txt\n",
      "python pdfparse.py feb1890.pdf -o feb1890text.txt\n",
      "python pdfparse.py mar1890.pdf -o mar1890text.txt\n",
      "python pdfparse.py apr1890.pdf -o apr1890text.txt\n",
      "python pdfparse.py may1890.pdf -o may1890text.txt\n",
      "python pdfparse.py june1890.pdf -o june1890text.txt\n",
      "python pdfparse.py july1890.pdf -o july1890text.txt\n",
      "python pdfparse.py aug1890.pdf -o aug1890text.txt\n",
      "python pdfparse.py apr1892.pdf -o apr1892text.txt\n",
      "python pdfparse.py aug1892.pdf -o aug1892text.txt\n",
      "python pdfparse.py dec1892.pdf -o dec1892text.txt\n",
      "python pdfparse.py dec1891.pdf -o dec1891text.txt\n",
      "python pdfparse.py feb1892.pdf -o feb1892text.txt\n",
      "python pdfparse.py feb1893.pdf -o feb1893text.txt\n",
      "python pdfparse.py jan1892.pdf -o jan1892text.txt\n",
      "python pdfparse.py jan1893.pdf -o jan1893text.txt\n",
      "python pdfparse.py july1892.pdf -o july1892text.txt\n",
      "python pdfparse.py june1892.pdf -o june1892text.txt\n",
      "python pdfparse.py mar1892.pdf -o mar1892text.txt\n",
      "python pdfparse.py mar1893.pdf -o mar1893text.txt\n",
      "python pdfparse.py may1892.pdf -o may1892text.txt\n",
      "python pdfparse.py nov1892.pdf -o nov1892text.txt\n",
      "python pdfparse.py nov1891.pdf -o nov1891text.txt\n",
      "python pdfparse.py oct1892.pdf -o oct1892text.txt\n",
      "python pdfparse.py oct1891.pdf -o oct1891text.txt\n",
      "python pdfparse.py sept1892.pdf -o sept1892text.txt\n"
     ]
    }
   ],
   "source": [
    "for pdf in pdfs:\n",
    "    print(f\"python pdfparse.py {pdf}.pdf -o {pdf}text.txt\")"
   ]
  },
  {
   "cell_type": "code",
   "execution_count": 3,
   "id": "127503cb-a034-4fe9-9da0-ec8bbc2ae066",
   "metadata": {},
   "outputs": [
    {
     "name": "stdout",
     "output_type": "stream",
     "text": [
      "python pdfparse.py mar1889.pdf -o mar1889text.txt;\n",
      "python pdfparse.py apr1889.pdf -o apr1889text.txt;\n",
      "python pdfparse.py may1889.pdf -o may1889text.txt;\n",
      "python pdfparse.py june1889.pdf -o june1889text.txt;\n",
      "python pdfparse.py july1889.pdf -o july1889text.txt;\n",
      "python pdfparse.py aug1889.pdf -o aug1889text.txt;\n",
      "python pdfparse.py sept1889.pdf -o sept1889text.txt;\n",
      "python pdfparse.py oct1889.pdf -o oct1889text.txt;\n",
      "python pdfparse.py nov1889.pdf -o nov1889text.txt;\n",
      "python pdfparse.py dec1889.pdf -o dec1889text.txt;\n",
      "python pdfparse.py jan1890.pdf -o jan1890text.txt;\n",
      "python pdfparse.py feb1890.pdf -o feb1890text.txt;\n",
      "python pdfparse.py mar1890.pdf -o mar1890text.txt;\n",
      "python pdfparse.py apr1890.pdf -o apr1890text.txt;\n",
      "python pdfparse.py may1890.pdf -o may1890text.txt;\n",
      "python pdfparse.py june1890.pdf -o june1890text.txt;\n",
      "python pdfparse.py july1890.pdf -o july1890text.txt;\n",
      "python pdfparse.py aug1890.pdf -o aug1890text.txt;\n",
      "python pdfparse.py apr1892.pdf -o apr1892text.txt;\n",
      "python pdfparse.py aug1892.pdf -o aug1892text.txt;\n",
      "python pdfparse.py dec1892.pdf -o dec1892text.txt;\n",
      "python pdfparse.py dec1891.pdf -o dec1891text.txt;\n",
      "python pdfparse.py feb1892.pdf -o feb1892text.txt;\n",
      "python pdfparse.py feb1893.pdf -o feb1893text.txt;\n",
      "python pdfparse.py jan1892.pdf -o jan1892text.txt;\n",
      "python pdfparse.py jan1893.pdf -o jan1893text.txt;\n",
      "python pdfparse.py july1892.pdf -o july1892text.txt;\n",
      "python pdfparse.py june1892.pdf -o june1892text.txt;\n",
      "python pdfparse.py mar1892.pdf -o mar1892text.txt;\n",
      "python pdfparse.py mar1893.pdf -o mar1893text.txt;\n",
      "python pdfparse.py may1892.pdf -o may1892text.txt;\n",
      "python pdfparse.py nov1892.pdf -o nov1892text.txt;\n",
      "python pdfparse.py nov1891.pdf -o nov1891text.txt;\n",
      "python pdfparse.py oct1892.pdf -o oct1892text.txt;\n",
      "python pdfparse.py oct1891.pdf -o oct1891text.txt;\n",
      "python pdfparse.py sept1892.pdf -o sept1892text.txt;\n"
     ]
    }
   ],
   "source": [
    "# to run all at once?\n",
    "for pdf in pdfs:\n",
    "    print(f\"python pdfparse.py {pdf}.pdf -o {pdf}text.txt;\")"
   ]
  },
  {
   "cell_type": "code",
   "execution_count": null,
   "id": "b60b99c9-9723-49b1-a6f0-7a2c062851b4",
   "metadata": {},
   "outputs": [],
   "source": []
  }
 ],
 "metadata": {
  "kernelspec": {
   "display_name": "Python 3 (ipykernel)",
   "language": "python",
   "name": "python3"
  },
  "language_info": {
   "codemirror_mode": {
    "name": "ipython",
    "version": 3
   },
   "file_extension": ".py",
   "mimetype": "text/x-python",
   "name": "python",
   "nbconvert_exporter": "python",
   "pygments_lexer": "ipython3",
   "version": "3.11.1"
  }
 },
 "nbformat": 4,
 "nbformat_minor": 5
}
