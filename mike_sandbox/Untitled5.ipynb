{
 "cells": [
  {
   "cell_type": "code",
   "execution_count": 13,
   "id": "141d2538-c0f5-4db3-b57e-d597343be849",
   "metadata": {},
   "outputs": [],
   "source": [
    "import fitz\n",
    "import numpy as np\n",
    "import cv2"
   ]
  },
  {
   "cell_type": "code",
   "execution_count": 17,
   "id": "c6548590-7faf-4898-900f-508f6af602da",
   "metadata": {},
   "outputs": [],
   "source": [
    "# Load the PDF file\n",
    "pdf = fitz.open(\"apr1889_new.pdf\")"
   ]
  },
  {
   "cell_type": "code",
   "execution_count": 21,
   "id": "eda30b27-70cb-401d-bb28-8c669864ee7c",
   "metadata": {},
   "outputs": [
    {
     "ename": "AttributeError",
     "evalue": "'Pixmap' object has no attribute 'transform'",
     "output_type": "error",
     "traceback": [
      "\u001b[1;31m---------------------------------------------------------------------------\u001b[0m",
      "\u001b[1;31mAttributeError\u001b[0m                            Traceback (most recent call last)",
      "\u001b[1;32m~\\AppData\\Local\\Temp\\ipykernel_20540\\2197148023.py\u001b[0m in \u001b[0;36m<module>\u001b[1;34m\u001b[0m\n\u001b[0;32m      9\u001b[0m \u001b[0mzoom_y\u001b[0m \u001b[1;33m=\u001b[0m \u001b[0mexpected_height\u001b[0m \u001b[1;33m/\u001b[0m \u001b[0mimage_height\u001b[0m\u001b[1;33m\u001b[0m\u001b[1;33m\u001b[0m\u001b[0m\n\u001b[0;32m     10\u001b[0m \u001b[0mmat\u001b[0m \u001b[1;33m=\u001b[0m \u001b[0mfitz\u001b[0m\u001b[1;33m.\u001b[0m\u001b[0mMatrix\u001b[0m\u001b[1;33m(\u001b[0m\u001b[0mzoom_x\u001b[0m\u001b[1;33m,\u001b[0m \u001b[0mzoom_y\u001b[0m\u001b[1;33m)\u001b[0m\u001b[1;33m\u001b[0m\u001b[1;33m\u001b[0m\u001b[0m\n\u001b[1;32m---> 11\u001b[1;33m \u001b[0mresized_pixmap\u001b[0m \u001b[1;33m=\u001b[0m \u001b[0mpixmap\u001b[0m\u001b[1;33m.\u001b[0m\u001b[0mtransform\u001b[0m\u001b[1;33m(\u001b[0m\u001b[0mmat\u001b[0m\u001b[1;33m)\u001b[0m\u001b[1;33m\u001b[0m\u001b[1;33m\u001b[0m\u001b[0m\n\u001b[0m\u001b[0;32m     12\u001b[0m \u001b[1;33m\u001b[0m\u001b[0m\n\u001b[0;32m     13\u001b[0m \u001b[1;31m# Convert the pixmap object to a NumPy array\u001b[0m\u001b[1;33m\u001b[0m\u001b[1;33m\u001b[0m\u001b[0m\n",
      "\u001b[1;31mAttributeError\u001b[0m: 'Pixmap' object has no attribute 'transform'"
     ]
    }
   ],
   "source": [
    "# Select the page you want to process\n",
    "page = pdf[0]  # assuming you want to process the first page\n",
    "\n",
    "# Get the page image and resize it to the expected dimensions\n",
    "pixmap = page.get_pixmap()\n",
    "image_width, image_height = pixmap.width, pixmap.height\n",
    "expected_width, expected_height = 1421, 997  # adjust these values to your needs\n",
    "zoom_x = expected_width / image_width\n",
    "zoom_y = expected_height / image_height\n",
    "mat = fitz.Matrix(zoom_x, zoom_y)\n",
    "resized_pixmap = pixmap.transform(mat)\n",
    "\n",
    "# Convert the pixmap object to a NumPy array\n",
    "image_data = resized_pixmap.samples\n",
    "image_array = np.frombuffer(image_data, dtype=np.uint8).reshape((expected_height, expected_width, 4))[..., :3]\n",
    "\n",
    "# Convert the image to grayscale\n",
    "gray = cv2.cvtColor(image_array, cv2.COLOR_RGB2GRAY)\n",
    "\n",
    "# Apply a threshold to the image\n",
    "threshold_value = 128  # adjust this value to your needs\n",
    "ret, binary_image = cv2.threshold(gray, threshold_value, 255, cv2.THRESH_BINARY)\n",
    "\n",
    "# Convert the binary image back to a Pixmap object\n",
    "binary_pixmap = fitz.Pixmap.from_bytes(binary_image)\n",
    "\n",
    "# Save the binary image to a file\n",
    "binary_pixmap.writePNG(\"path/to/output/file.png\")"
   ]
  },
  {
   "cell_type": "code",
   "execution_count": null,
   "id": "70e2691f-8f31-44ae-9ed4-747b3727662f",
   "metadata": {},
   "outputs": [],
   "source": []
  }
 ],
 "metadata": {
  "kernelspec": {
   "display_name": "Python 3 (ipykernel)",
   "language": "python",
   "name": "python3"
  },
  "language_info": {
   "codemirror_mode": {
    "name": "ipython",
    "version": 3
   },
   "file_extension": ".py",
   "mimetype": "text/x-python",
   "name": "python",
   "nbconvert_exporter": "python",
   "pygments_lexer": "ipython3",
   "version": "3.9.13"
  }
 },
 "nbformat": 4,
 "nbformat_minor": 5
}
