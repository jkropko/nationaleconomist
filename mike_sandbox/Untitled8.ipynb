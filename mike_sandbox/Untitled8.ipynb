{
 "cells": [
  {
   "cell_type": "code",
   "execution_count": 2,
   "id": "bed09019-568d-4bfb-a239-e561a216032c",
   "metadata": {},
   "outputs": [
    {
     "name": "stdout",
     "output_type": "stream",
     "text": [
      "Page 1:\n"
     ]
    },
    {
     "ename": "AttributeError",
     "evalue": "'Page' object has no attribute 'getText'",
     "output_type": "error",
     "traceback": [
      "\u001b[0;31m---------------------------------------------------------------------------\u001b[0m",
      "\u001b[0;31mAttributeError\u001b[0m                            Traceback (most recent call last)",
      "Cell \u001b[0;32mIn[2], line 50\u001b[0m\n\u001b[1;32m     47\u001b[0m             \u001b[38;5;28mprint\u001b[39m()\n\u001b[1;32m     49\u001b[0m \u001b[38;5;28;01mif\u001b[39;00m \u001b[38;5;18m__name__\u001b[39m \u001b[38;5;241m==\u001b[39m \u001b[38;5;124m\"\u001b[39m\u001b[38;5;124m__main__\u001b[39m\u001b[38;5;124m\"\u001b[39m:\n\u001b[0;32m---> 50\u001b[0m     \u001b[43mdetect_columns\u001b[49m\u001b[43m(\u001b[49m\u001b[38;5;124;43m\"\u001b[39;49m\u001b[38;5;124;43mapr1889.pdf\u001b[39;49m\u001b[38;5;124;43m\"\u001b[39;49m\u001b[43m)\u001b[49m\n",
      "Cell \u001b[0;32mIn[2], line 12\u001b[0m, in \u001b[0;36mdetect_columns\u001b[0;34m(pdf_file)\u001b[0m\n\u001b[1;32m      9\u001b[0m \u001b[38;5;28mprint\u001b[39m(\u001b[38;5;124mf\u001b[39m\u001b[38;5;124m\"\u001b[39m\u001b[38;5;124mPage \u001b[39m\u001b[38;5;132;01m{\u001b[39;00mpage\u001b[38;5;241m.\u001b[39mnumber\u001b[38;5;250m \u001b[39m\u001b[38;5;241m+\u001b[39m\u001b[38;5;250m \u001b[39m\u001b[38;5;241m1\u001b[39m\u001b[38;5;132;01m}\u001b[39;00m\u001b[38;5;124m:\u001b[39m\u001b[38;5;124m\"\u001b[39m)\n\u001b[1;32m     11\u001b[0m \u001b[38;5;66;03m# OCR the page\u001b[39;00m\n\u001b[0;32m---> 12\u001b[0m text \u001b[38;5;241m=\u001b[39m \u001b[43mpage\u001b[49m\u001b[38;5;241;43m.\u001b[39;49m\u001b[43mgetText\u001b[49m(\u001b[38;5;124m\"\u001b[39m\u001b[38;5;124mtext\u001b[39m\u001b[38;5;124m\"\u001b[39m)\n\u001b[1;32m     13\u001b[0m text \u001b[38;5;241m=\u001b[39m text\u001b[38;5;241m.\u001b[39mencode(\u001b[38;5;124m\"\u001b[39m\u001b[38;5;124mascii\u001b[39m\u001b[38;5;124m\"\u001b[39m, \u001b[38;5;124m\"\u001b[39m\u001b[38;5;124mignore\u001b[39m\u001b[38;5;124m\"\u001b[39m)\u001b[38;5;241m.\u001b[39mdecode()\n\u001b[1;32m     15\u001b[0m \u001b[38;5;66;03m# Split text into lines\u001b[39;00m\n",
      "\u001b[0;31mAttributeError\u001b[0m: 'Page' object has no attribute 'getText'"
     ]
    }
   ],
   "source": [
    "import fitz\n",
    "\n",
    "def detect_columns(pdf_file):\n",
    "    # Open PDF file\n",
    "    doc = fitz.open(pdf_file)\n",
    "\n",
    "    # Loop over all pages\n",
    "    for page in doc:\n",
    "        print(f\"Page {page.number + 1}:\")\n",
    "\n",
    "        # OCR the page\n",
    "        text = page.getText(\"text\")\n",
    "        text = text.encode(\"ascii\", \"ignore\").decode()\n",
    "\n",
    "        # Split text into lines\n",
    "        lines = text.split(\"\\n\")\n",
    "\n",
    "        # Calculate the average line length\n",
    "        avg_line_length = sum(len(line) for line in lines) / len(lines)\n",
    "\n",
    "        # Calculate the distances between adjacent lines\n",
    "        distances = []\n",
    "        for i in range(1, len(lines)):\n",
    "            dist = abs(len(lines[i]) - len(lines[i-1]))\n",
    "            distances.append(dist)\n",
    "\n",
    "        # Calculate the average distance\n",
    "        avg_distance = sum(distances) / len(distances)\n",
    "\n",
    "        # Define a threshold for column detection\n",
    "        threshold = avg_line_length / 2\n",
    "\n",
    "        # Determine column boundaries\n",
    "        columns = []\n",
    "        start = 0\n",
    "        for i in range(len(distances)):\n",
    "            if distances[i] > avg_distance + threshold:\n",
    "                columns.append((start, i))\n",
    "                start = i\n",
    "        columns.append((start, len(distances)))\n",
    "\n",
    "        # Print the text of each column\n",
    "        for i, column in enumerate(columns):\n",
    "            print(f\"Column {i+1}:\")\n",
    "            for j in range(column[0], column[1]):\n",
    "                print(lines[j])\n",
    "            print()\n",
    "\n",
    "if __name__ == \"__main__\":\n",
    "    detect_columns(\"apr1889.pdf\")"
   ]
  },
  {
   "cell_type": "code",
   "execution_count": null,
   "id": "010db614-cdfa-4e52-8dc3-e7a639ee63fa",
   "metadata": {},
   "outputs": [],
   "source": []
  }
 ],
 "metadata": {
  "kernelspec": {
   "display_name": "Python 3 (ipykernel)",
   "language": "python",
   "name": "python3"
  },
  "language_info": {
   "codemirror_mode": {
    "name": "ipython",
    "version": 3
   },
   "file_extension": ".py",
   "mimetype": "text/x-python",
   "name": "python",
   "nbconvert_exporter": "python",
   "pygments_lexer": "ipython3",
   "version": "3.11.1"
  }
 },
 "nbformat": 4,
 "nbformat_minor": 5
}
