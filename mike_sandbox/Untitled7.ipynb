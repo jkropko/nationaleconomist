{
 "cells": [
  {
   "cell_type": "code",
   "execution_count": 5,
   "id": "c57c0bee-8d67-4811-ab95-14dcd93acc7a",
   "metadata": {},
   "outputs": [],
   "source": [
    "import fitz\n",
    "\n",
    "# Open the PDF file\n",
    "doc = fitz.open('apr1889_single.pdf')"
   ]
  },
  {
   "cell_type": "code",
   "execution_count": null,
   "id": "8a32fbab-9545-46c6-8d67-62f75e252ace",
   "metadata": {},
   "outputs": [],
   "source": []
  }
 ],
 "metadata": {
  "kernelspec": {
   "display_name": "Python 3 (ipykernel)",
   "language": "python",
   "name": "python3"
  },
  "language_info": {
   "codemirror_mode": {
    "name": "ipython",
    "version": 3
   },
   "file_extension": ".py",
   "mimetype": "text/x-python",
   "name": "python",
   "nbconvert_exporter": "python",
   "pygments_lexer": "ipython3",
   "version": "3.9.13"
  }
 },
 "nbformat": 4,
 "nbformat_minor": 5
}
