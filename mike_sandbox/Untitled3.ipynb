{
 "cells": [
  {
   "cell_type": "code",
   "execution_count": 7,
   "id": "4e69dc80-aaeb-4b53-9cbc-209c8f89a30b",
   "metadata": {},
   "outputs": [
    {
     "name": "stdout",
     "output_type": "stream",
     "text": [
      "Collecting PyMuPDF==1.18.14\n",
      "  Downloading PyMuPDF-1.18.14.tar.gz (318 kB)\n",
      "\u001b[2K     \u001b[90m━━━━━━━━━━━━━━━━━━━━━━━━━━━━━━━━━━━━━━━\u001b[0m \u001b[32m318.7/318.7 kB\u001b[0m \u001b[31m4.3 MB/s\u001b[0m eta \u001b[36m0:00:00\u001b[0m00:01\u001b[0m00:01\u001b[0m\n",
      "\u001b[?25h  Preparing metadata (setup.py) ... \u001b[?25ldone\n",
      "\u001b[?25hBuilding wheels for collected packages: PyMuPDF\n",
      "  Building wheel for PyMuPDF (setup.py) ... \u001b[?25lerror\n",
      "  \u001b[1;31merror\u001b[0m: \u001b[1msubprocess-exited-with-error\u001b[0m\n",
      "  \n",
      "  \u001b[31m×\u001b[0m \u001b[32mpython setup.py bdist_wheel\u001b[0m did not run successfully.\n",
      "  \u001b[31m│\u001b[0m exit code: \u001b[1;36m1\u001b[0m\n",
      "  \u001b[31m╰─>\u001b[0m \u001b[31m[20 lines of output]\u001b[0m\n",
      "  \u001b[31m   \u001b[0m running bdist_wheel\n",
      "  \u001b[31m   \u001b[0m running build\n",
      "  \u001b[31m   \u001b[0m running build_py\n",
      "  \u001b[31m   \u001b[0m creating build\n",
      "  \u001b[31m   \u001b[0m creating build/lib.linux-x86_64-cpython-311\n",
      "  \u001b[31m   \u001b[0m creating build/lib.linux-x86_64-cpython-311/fitz\n",
      "  \u001b[31m   \u001b[0m copying fitz/__init__.py -> build/lib.linux-x86_64-cpython-311/fitz\n",
      "  \u001b[31m   \u001b[0m copying fitz/fitz.py -> build/lib.linux-x86_64-cpython-311/fitz\n",
      "  \u001b[31m   \u001b[0m copying fitz/utils.py -> build/lib.linux-x86_64-cpython-311/fitz\n",
      "  \u001b[31m   \u001b[0m copying fitz/__main__.py -> build/lib.linux-x86_64-cpython-311/fitz\n",
      "  \u001b[31m   \u001b[0m running build_ext\n",
      "  \u001b[31m   \u001b[0m building 'fitz._fitz' extension\n",
      "  \u001b[31m   \u001b[0m creating build/temp.linux-x86_64-cpython-311\n",
      "  \u001b[31m   \u001b[0m creating build/temp.linux-x86_64-cpython-311/fitz\n",
      "  \u001b[31m   \u001b[0m gcc -pthread -Wsign-compare -DNDEBUG -g -fwrapv -O3 -Wall -fPIC -I/usr/include/mupdf -I/usr/local/include/mupdf -Imupdf/thirdparty/freetype/include -I/usr/include/freetype2 -I/usr/local/include/python3.11 -c fitz/fitz_wrap.c -o build/temp.linux-x86_64-cpython-311/fitz/fitz_wrap.o\n",
      "  \u001b[31m   \u001b[0m fitz/fitz_wrap.c:2754:10: fatal error: fitz.h: No such file or directory\n",
      "  \u001b[31m   \u001b[0m  2754 | #include <fitz.h>\n",
      "  \u001b[31m   \u001b[0m       |          ^~~~~~~~\n",
      "  \u001b[31m   \u001b[0m compilation terminated.\n",
      "  \u001b[31m   \u001b[0m error: command '/usr/bin/gcc' failed with exit code 1\n",
      "  \u001b[31m   \u001b[0m \u001b[31m[end of output]\u001b[0m\n",
      "  \n",
      "  \u001b[1;35mnote\u001b[0m: This error originates from a subprocess, and is likely not a problem with pip.\n",
      "\u001b[31m  ERROR: Failed building wheel for PyMuPDF\u001b[0m\u001b[31m\n",
      "\u001b[0m\u001b[?25h  Running setup.py clean for PyMuPDF\n",
      "Failed to build PyMuPDF\n",
      "Installing collected packages: PyMuPDF\n",
      "  Attempting uninstall: PyMuPDF\n",
      "    Found existing installation: PyMuPDF 1.21.1\n",
      "    Uninstalling PyMuPDF-1.21.1:\n",
      "      Successfully uninstalled PyMuPDF-1.21.1\n",
      "  Running setup.py install for PyMuPDF ... \u001b[?25lerror\n",
      "  \u001b[1;31merror\u001b[0m: \u001b[1msubprocess-exited-with-error\u001b[0m\n",
      "  \n",
      "  \u001b[31m×\u001b[0m \u001b[32mRunning setup.py install for PyMuPDF\u001b[0m did not run successfully.\n",
      "  \u001b[31m│\u001b[0m exit code: \u001b[1;36m1\u001b[0m\n",
      "  \u001b[31m╰─>\u001b[0m \u001b[31m[22 lines of output]\u001b[0m\n",
      "  \u001b[31m   \u001b[0m running install\n",
      "  \u001b[31m   \u001b[0m /usr/local/lib/python3.11/site-packages/setuptools/command/install.py:34: SetuptoolsDeprecationWarning: setup.py install is deprecated. Use build and pip and other standards-based tools.\n",
      "  \u001b[31m   \u001b[0m   warnings.warn(\n",
      "  \u001b[31m   \u001b[0m running build\n",
      "  \u001b[31m   \u001b[0m running build_py\n",
      "  \u001b[31m   \u001b[0m creating build\n",
      "  \u001b[31m   \u001b[0m creating build/lib.linux-x86_64-cpython-311\n",
      "  \u001b[31m   \u001b[0m creating build/lib.linux-x86_64-cpython-311/fitz\n",
      "  \u001b[31m   \u001b[0m copying fitz/__init__.py -> build/lib.linux-x86_64-cpython-311/fitz\n",
      "  \u001b[31m   \u001b[0m copying fitz/fitz.py -> build/lib.linux-x86_64-cpython-311/fitz\n",
      "  \u001b[31m   \u001b[0m copying fitz/utils.py -> build/lib.linux-x86_64-cpython-311/fitz\n",
      "  \u001b[31m   \u001b[0m copying fitz/__main__.py -> build/lib.linux-x86_64-cpython-311/fitz\n",
      "  \u001b[31m   \u001b[0m running build_ext\n",
      "  \u001b[31m   \u001b[0m building 'fitz._fitz' extension\n",
      "  \u001b[31m   \u001b[0m creating build/temp.linux-x86_64-cpython-311\n",
      "  \u001b[31m   \u001b[0m creating build/temp.linux-x86_64-cpython-311/fitz\n",
      "  \u001b[31m   \u001b[0m gcc -pthread -Wsign-compare -DNDEBUG -g -fwrapv -O3 -Wall -fPIC -I/usr/include/mupdf -I/usr/local/include/mupdf -Imupdf/thirdparty/freetype/include -I/usr/include/freetype2 -I/usr/local/include/python3.11 -c fitz/fitz_wrap.c -o build/temp.linux-x86_64-cpython-311/fitz/fitz_wrap.o\n",
      "  \u001b[31m   \u001b[0m fitz/fitz_wrap.c:2754:10: fatal error: fitz.h: No such file or directory\n",
      "  \u001b[31m   \u001b[0m  2754 | #include <fitz.h>\n",
      "  \u001b[31m   \u001b[0m       |          ^~~~~~~~\n",
      "  \u001b[31m   \u001b[0m compilation terminated.\n",
      "  \u001b[31m   \u001b[0m error: command '/usr/bin/gcc' failed with exit code 1\n",
      "  \u001b[31m   \u001b[0m \u001b[31m[end of output]\u001b[0m\n",
      "  \n",
      "  \u001b[1;35mnote\u001b[0m: This error originates from a subprocess, and is likely not a problem with pip.\n",
      "\u001b[?25h  Rolling back uninstall of PyMuPDF\n",
      "  Moving to /usr/local/lib/python3.11/site-packages/PyMuPDF-1.21.1.dist-info/\n",
      "   from /usr/local/lib/python3.11/site-packages/~yMuPDF-1.21.1.dist-info\n",
      "  Moving to /usr/local/lib/python3.11/site-packages/fitz/\n",
      "   from /usr/local/lib/python3.11/site-packages/~itz\n",
      "\u001b[1;31merror\u001b[0m: \u001b[1mlegacy-install-failure\u001b[0m\n",
      "\n",
      "\u001b[31m×\u001b[0m Encountered error while trying to install package.\n",
      "\u001b[31m╰─>\u001b[0m PyMuPDF\n",
      "\n",
      "\u001b[1;35mnote\u001b[0m: This is an issue with the package mentioned above, not pip.\n",
      "\u001b[1;36mhint\u001b[0m: See above for output from the failure.\n",
      "Note: you may need to restart the kernel to use updated packages.\n"
     ]
    }
   ],
   "source": [
    "pip install PyMuPDF==1.18.14"
   ]
  },
  {
   "cell_type": "code",
   "execution_count": 1,
   "id": "513873cf-be3d-4107-8d85-d0ce2c81fa52",
   "metadata": {},
   "outputs": [],
   "source": [
    "import fitz\n",
    "\n",
    "# Open the PDF file and select the first page\n",
    "doc = fitz.open(\"apr1889_new.pdf\")\n",
    "page = doc[0]"
   ]
  },
  {
   "cell_type": "code",
   "execution_count": 2,
   "id": "35b79661-478f-4b8f-b167-b76479e8d6aa",
   "metadata": {},
   "outputs": [
    {
     "ename": "AttributeError",
     "evalue": "'Page' object has no attribute 'getPixmap'",
     "output_type": "error",
     "traceback": [
      "\u001b[0;31m---------------------------------------------------------------------------\u001b[0m",
      "\u001b[0;31mAttributeError\u001b[0m                            Traceback (most recent call last)",
      "Cell \u001b[0;32mIn[2], line 2\u001b[0m\n\u001b[1;32m      1\u001b[0m \u001b[38;5;66;03m# Convert the PDF page to a grayscale numpy array\u001b[39;00m\n\u001b[0;32m----> 2\u001b[0m pix \u001b[38;5;241m=\u001b[39m \u001b[43mpage\u001b[49m\u001b[38;5;241;43m.\u001b[39;49m\u001b[43mgetPixmap\u001b[49m()\n\u001b[1;32m      3\u001b[0m gray \u001b[38;5;241m=\u001b[39m pix\u001b[38;5;241m.\u001b[39mgetGray()\n",
      "\u001b[0;31mAttributeError\u001b[0m: 'Page' object has no attribute 'getPixmap'"
     ]
    }
   ],
   "source": [
    "# Convert the PDF page to a grayscale numpy array\n",
    "pix = page.getPixmap()\n",
    "gray = pix.getGray()"
   ]
  },
  {
   "cell_type": "code",
   "execution_count": null,
   "id": "7ff90a0e-7663-4662-a6ae-f6c4e94397ee",
   "metadata": {},
   "outputs": [],
   "source": []
  }
 ],
 "metadata": {
  "kernelspec": {
   "display_name": "Python 3 (ipykernel)",
   "language": "python",
   "name": "python3"
  },
  "language_info": {
   "codemirror_mode": {
    "name": "ipython",
    "version": 3
   },
   "file_extension": ".py",
   "mimetype": "text/x-python",
   "name": "python",
   "nbconvert_exporter": "python",
   "pygments_lexer": "ipython3",
   "version": "3.11.1"
  }
 },
 "nbformat": 4,
 "nbformat_minor": 5
}
