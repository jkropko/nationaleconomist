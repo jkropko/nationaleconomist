{
 "cells": [
  {
   "cell_type": "markdown",
   "id": "1f7d3c5b-9938-4e36-8985-11b61da33af5",
   "metadata": {},
   "source": [
    "# Text embeddings \n",
    "\n",
    "\n",
    "Attempt to implement the following approach to our data \n",
    "https://towardsdatascience.com/how-to-visualize-text-embeddings-with-tensorboard-47e07e3a12fb"
   ]
  },
  {
   "cell_type": "code",
   "execution_count": null,
   "id": "b7ab74a8-d60c-43d8-8afd-fbe511e9b84d",
   "metadata": {},
   "outputs": [],
   "source": [
    "#pip install -U scikit-learn"
   ]
  },
  {
   "cell_type": "code",
   "execution_count": null,
   "id": "49fbe3b3-de6b-4acd-a915-1ed5b0ba6e23",
   "metadata": {},
   "outputs": [],
   "source": [
    "#pip install -U tensorflow"
   ]
  },
  {
   "cell_type": "code",
   "execution_count": null,
   "id": "44f47cd4-4e0b-47d0-81de-17f0e425bd71",
   "metadata": {},
   "outputs": [],
   "source": [
    "#pip install -U matplotlib"
   ]
  },
  {
   "cell_type": "code",
   "execution_count": 5,
   "id": "a066e122-3408-48b0-b143-3b80072d2036",
   "metadata": {},
   "outputs": [],
   "source": [
    "import os\n",
    "import numpy as np\n",
    "import pandas as pd\n",
    "\n",
    "from sklearn.model_selection import train_test_split\n",
    "\n",
    "import tensorflow as tf\n",
    "from tensorboard.plugins import projector\n",
    "from tensorflow.keras.preprocessing.sequence import pad_sequences\n",
    "\n",
    "import matplotlib.pyplot as plt\n",
    "plt.style.use('ggplot')"
   ]
  },
  {
   "cell_type": "code",
   "execution_count": 10,
   "id": "ff1fc6de-c800-47f9-a87f-4b230fa6ff29",
   "metadata": {},
   "outputs": [],
   "source": [
    "#df = pd.read_csv('Almanac1890text.txt', sep=\" \")\n",
    "\n",
    "#df.head()"
   ]
  },
  {
   "cell_type": "code",
   "execution_count": 13,
   "id": "d1b9f01f-8d3a-48ea-a653-80aa06fa706b",
   "metadata": {},
   "outputs": [],
   "source": [
    "df = tf.io.read_file(\"Almanac1890text.txt\")"
   ]
  },
  {
   "cell_type": "code",
   "execution_count": 15,
   "id": "f2f35a83-a0fc-4696-bd8d-2043270b7268",
   "metadata": {},
   "outputs": [],
   "source": [
    "#df"
   ]
  },
  {
   "cell_type": "code",
   "execution_count": 17,
   "id": "2a80f9cd-f104-4900-9036-95ea990ea689",
   "metadata": {},
   "outputs": [],
   "source": [
    "# maximum number of words to keep\n",
    "max_vocab_size = 20000\n",
    "\n",
    "# instance of the Tokenizer class\n",
    "tokenizer = tf.keras.preprocessing.text.Tokenizer(num_words=max_vocab_size)\n"
   ]
  },
  {
   "cell_type": "code",
   "execution_count": null,
   "id": "65c6be1d-3d94-4e33-b5b0-fecea48b2dfe",
   "metadata": {},
   "outputs": [],
   "source": []
  }
 ],
 "metadata": {
  "kernelspec": {
   "display_name": "Python 3 (ipykernel)",
   "language": "python",
   "name": "python3"
  },
  "language_info": {
   "codemirror_mode": {
    "name": "ipython",
    "version": 3
   },
   "file_extension": ".py",
   "mimetype": "text/x-python",
   "name": "python",
   "nbconvert_exporter": "python",
   "pygments_lexer": "ipython3",
   "version": "3.11.2"
  }
 },
 "nbformat": 4,
 "nbformat_minor": 5
}
